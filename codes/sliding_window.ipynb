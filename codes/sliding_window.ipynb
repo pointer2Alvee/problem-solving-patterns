{
 "cells": [
  {
   "cell_type": "code",
   "execution_count": 25,
   "id": "34ae15e7",
   "metadata": {},
   "outputs": [],
   "source": [
    "# Fixed Sliding window\n",
    "\n",
    "def max_sub_array(nums, k) -> int:\n",
    "    total = sum(nums[:k])\n",
    "    max_val = total \n",
    "    \n",
    "    if len(nums) < k :\n",
    "            return 0 \n",
    "        \n",
    "    for i in range(len(nums)-k):\n",
    "        total -= nums[i]\n",
    "        total += nums[i+k]\n",
    "        max_val = max(max_val, total)\n",
    "        \n",
    "    return max_val\n",
    "         "
   ]
  },
  {
   "cell_type": "code",
   "execution_count": 24,
   "id": "224dab33",
   "metadata": {},
   "outputs": [
    {
     "name": "stdout",
     "output_type": "stream",
     "text": [
      "10\n"
     ]
    }
   ],
   "source": [
    "nums = [1,2,3,4]\n",
    "print(max_sub_array(nums,4))"
   ]
  }
 ],
 "metadata": {
  "kernelspec": {
   "display_name": "Python 3",
   "language": "python",
   "name": "python3"
  },
  "language_info": {
   "codemirror_mode": {
    "name": "ipython",
    "version": 3
   },
   "file_extension": ".py",
   "mimetype": "text/x-python",
   "name": "python",
   "nbconvert_exporter": "python",
   "pygments_lexer": "ipython3",
   "version": "3.10.11"
  }
 },
 "nbformat": 4,
 "nbformat_minor": 5
}

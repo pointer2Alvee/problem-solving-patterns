{
 "cells": [
  {
   "cell_type": "markdown",
   "id": "540a1ac2",
   "metadata": {},
   "source": [
    "##### my attempt "
   ]
  },
  {
   "cell_type": "code",
   "execution_count": null,
   "id": "2ece7c7f",
   "metadata": {},
   "outputs": [
    {
     "name": "stdout",
     "output_type": "stream",
     "text": [
      "[1, 3, 6, 10, 15, 6]\n"
     ]
    }
   ],
   "source": [
    "arr = [1, 2, 3, 4, 5, 6]\n",
    "\n",
    "start_idx = 0\n",
    "end_idx = 4\n",
    "\n",
    "for i in range(len(arr)):\n",
    "    if i is not end_idx+1:\n",
    "        if i<start_idx:\n",
    "            continue\n",
    "        elif i == start_idx:\n",
    "            arr[i] = arr[i]\n",
    "        else:\n",
    "            arr[i] = arr[i] + arr[i-1]\n",
    "    else:\n",
    "        break        \n",
    "\n",
    "print(arr)\n",
    "\n"
   ]
  },
  {
   "cell_type": "markdown",
   "id": "6a7c0f5b",
   "metadata": {},
   "source": [
    "**⚠️ But here are some issues/improvements:**\n",
    "- Unclear logic:—  Using if i is not end_idx+1 is unusual and unnecessary.\n",
    "- Redundant checks:—  elif i == start_idx: arr[i] = arr[i] does nothing — it’s already the value.\n",
    "- Modifies original array:—  Sometimes not ideal.\n"
   ]
  },
  {
   "cell_type": "markdown",
   "id": "5e7fd9a1",
   "metadata": {},
   "source": [
    "##### Standard Solution"
   ]
  },
  {
   "cell_type": "code",
   "execution_count": 11,
   "id": "29b1a09a",
   "metadata": {},
   "outputs": [
    {
     "name": "stdout",
     "output_type": "stream",
     "text": [
      "[1, 3, 6, 10, 15, 21]\n"
     ]
    }
   ],
   "source": [
    "my_arr = [1,2,3,4,5,6,7,8,9,10]\n",
    "prf_sum = []\n",
    "\n",
    "st_idx = 0\n",
    "en_idx = 5\n",
    "\n",
    "curr = 0\n",
    "\n",
    "for i in range(st_idx, en_idx+1):\n",
    "    curr += my_arr[i]\n",
    "    prf_sum.append(curr)\n",
    "    \n",
    "print(prf_sum)"
   ]
  },
  {
   "cell_type": "markdown",
   "id": "b0ca0a4e",
   "metadata": {},
   "source": [
    "##### Leetcode - 303 : \"Range Query Sum - Immutable\" - (solved myself✅)"
   ]
  },
  {
   "cell_type": "code",
   "execution_count": 14,
   "id": "829585cc",
   "metadata": {},
   "outputs": [
    {
     "name": "stdout",
     "output_type": "stream",
     "text": [
      "-3\n"
     ]
    }
   ],
   "source": [
    "class NumArray():\n",
    "    def __init__(self, nums):\n",
    "        self.nums = nums\n",
    "        \n",
    "    def sum_range(self, left, right) -> int:\n",
    "        sum = 0\n",
    "        \n",
    "        for i in range(left, right+1):\n",
    "            sum += self.nums[i]\n",
    "        \n",
    "        return sum\n",
    "\n",
    "\n",
    "# nums = [1,2,3,4,5,6,7]\n",
    "nums = [-2,0,3,-5,2,-1]\n",
    "num_arr_obj = NumArray(nums)\n",
    "prefix_sum = num_arr_obj.sum_range(0,5) \n",
    "print(prefix_sum)"
   ]
  },
  {
   "cell_type": "markdown",
   "id": "c9a77446",
   "metadata": {},
   "source": [
    "##### Leetcode - 560 : \"Subarray Sum equals K\" -"
   ]
  },
  {
   "cell_type": "code",
   "execution_count": null,
   "id": "a69135bb",
   "metadata": {},
   "outputs": [
    {
     "name": "stdout",
     "output_type": "stream",
     "text": [
      "2\n"
     ]
    }
   ],
   "source": [
    "# solved brute force myself\n",
    "# Brute-force version: correct not optimal **two loops O(n^2) - iterates over all possible sub arrays\n",
    "def sub_arr_sum_k(nums, k):\n",
    "    count = 0    \n",
    "    \n",
    "    for i in range(len(nums)):\n",
    "        sum = 0 \n",
    "        for j in range(i, len(nums)): \n",
    "            sum += nums[j]\n",
    "            if sum == k:\n",
    "                count += 1\n",
    "    return count\n",
    "\n",
    "nums = [1,2,3]\n",
    "k = 3\n",
    "print(sub_arr_sum_k(nums,k))"
   ]
  },
  {
   "cell_type": "code",
   "execution_count": 27,
   "id": "564fee80",
   "metadata": {},
   "outputs": [],
   "source": [
    "# Optimal Solution - Prefix sum + Hashmap\n",
    "\n",
    "def subarray_sum_k(nums, k):\n",
    "    \"\"\"\n",
    "    Formula : \n",
    "    --> arr[j] - arr[i-1] = k \n",
    "    --> arr[i-1] = arr[j] - k \n",
    "    --> diff_sum = curr_sum - k \n",
    "    \"\"\"\n",
    "    \n",
    "    curr_sum = 0\n",
    "    count = 0\n",
    "    prefix_sums = {0:1}\n",
    "    \n",
    "    for n in nums:\n",
    "        diff_sum = 0\n",
    "        curr_sum += n # prefix_sum\n",
    "        \n",
    "        diff_sum = curr_sum - k\n",
    "        count += prefix_sums.get(diff_sum, 0)\n",
    "        prefix_sums[curr_sum] = prefix_sums.get(curr_sum, 0) + 1\n",
    "    \n",
    "    return count\n",
    "\n"
   ]
  },
  {
   "cell_type": "code",
   "execution_count": 29,
   "id": "a5d79a95",
   "metadata": {},
   "outputs": [
    {
     "name": "stdout",
     "output_type": "stream",
     "text": [
      "4\n"
     ]
    }
   ],
   "source": [
    "nums = [1,-1,1,1,1]\n",
    "k = 2\n",
    "print(subarray_sum_k(nums,k))\n"
   ]
  },
  {
   "cell_type": "markdown",
   "id": "f79fb849",
   "metadata": {},
   "source": [
    "##### Leetcode - 525 : \"Contagious Array\" "
   ]
  },
  {
   "cell_type": "code",
   "execution_count": null,
   "id": "deee4188",
   "metadata": {},
   "outputs": [],
   "source": []
  },
  {
   "cell_type": "markdown",
   "id": "085ff18e",
   "metadata": {},
   "source": [
    "##### Leetcode - 2574 : \"Left And right sum differences\" - (solved myself✅)"
   ]
  },
  {
   "cell_type": "code",
   "execution_count": 113,
   "id": "a9541f74",
   "metadata": {},
   "outputs": [],
   "source": [
    "def leftRightDifference(nums):\n",
    "    \"\"\"\n",
    "    :type nums: List[int]\n",
    "    :rtype: List[int]\n",
    "    \"\"\"\n",
    "    \n",
    "    leftSum = []\n",
    "    rightSum = []\n",
    "    diff = []\n",
    "    sum1 = sum2 = 0\n",
    "    \n",
    "    for i in range(len(nums)):\n",
    "        leftSum.append(sum1)\n",
    "        sum1 += nums[i]\n",
    "\n",
    "        rightSum.append(sum2)\n",
    "        sum2 += nums[len(nums)-1-i]\n",
    "    \n",
    "    rightSum.reverse()\n",
    "\n",
    "\n",
    "    for i in range(len(leftSum)):\n",
    "        diff.append(abs(leftSum[i] - rightSum[i]))\n",
    "    \n",
    "    return diff\n"
   ]
  },
  {
   "cell_type": "code",
   "execution_count": null,
   "id": "ecc8eb19",
   "metadata": {},
   "outputs": [
    {
     "name": "stdout",
     "output_type": "stream",
     "text": [
      "[15, 1, 11, 22]\n"
     ]
    }
   ],
   "source": [
    "nums = [10,4,8,3]\n",
    "array= leftRightDifference(nums)\n",
    "print(array)"
   ]
  },
  {
   "cell_type": "code",
   "execution_count": null,
   "id": "1772c3c6",
   "metadata": {},
   "outputs": [],
   "source": [
    "# more optimal \n",
    "class Solution(object):\n",
    "    def leftRightDifference(self, nums):\n",
    "        \"\"\"\n",
    "        :type nums: List[int]\n",
    "        :rtype: List[int]\n",
    "        \"\"\"\n",
    "        total = sum(nums)\n",
    "        left_sum = 0\n",
    "        result = []\n",
    "\n",
    "        for num in nums:\n",
    "            right_sum = total - left_sum - num\n",
    "            result.append(abs(left_sum - right_sum))\n",
    "            left_sum += num\n",
    "        \n",
    "        return result"
   ]
  }
 ],
 "metadata": {
  "kernelspec": {
   "display_name": "Python 3",
   "language": "python",
   "name": "python3"
  },
  "language_info": {
   "codemirror_mode": {
    "name": "ipython",
    "version": 3
   },
   "file_extension": ".py",
   "mimetype": "text/x-python",
   "name": "python",
   "nbconvert_exporter": "python",
   "pygments_lexer": "ipython3",
   "version": "3.10.11"
  }
 },
 "nbformat": 4,
 "nbformat_minor": 5
}
